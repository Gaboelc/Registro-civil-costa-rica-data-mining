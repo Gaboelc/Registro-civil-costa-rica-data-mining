{
 "cells": [
  {
   "cell_type": "markdown",
   "metadata": {},
   "source": [
    "## Notebook para limpiar el CSV"
   ]
  },
  {
   "cell_type": "markdown",
   "metadata": {},
   "source": [
    "Este notebook solo se usa para limpiar filas en blanco y cambiar el formato de ciertas columnas"
   ]
  },
  {
   "cell_type": "code",
   "execution_count": 63,
   "metadata": {},
   "outputs": [],
   "source": [
    "import pandas as pd"
   ]
  },
  {
   "cell_type": "code",
   "execution_count": 64,
   "metadata": {},
   "outputs": [
    {
     "name": "stderr",
     "output_type": "stream",
     "text": [
      "C:\\Users\\Gaboelc\\AppData\\Local\\Temp\\ipykernel_3800\\3142347283.py:1: DtypeWarning: Columns (5) have mixed types. Specify dtype option on import or set low_memory=False.\n",
      "  df = pd.read_csv(r'A:\\Computacion\\Data-Science\\registro-civil-costa-rica-data-mining\\data.csv')\n"
     ]
    },
    {
     "data": {
      "text/html": [
       "<div>\n",
       "<style scoped>\n",
       "    .dataframe tbody tr th:only-of-type {\n",
       "        vertical-align: middle;\n",
       "    }\n",
       "\n",
       "    .dataframe tbody tr th {\n",
       "        vertical-align: top;\n",
       "    }\n",
       "\n",
       "    .dataframe thead th {\n",
       "        text-align: right;\n",
       "    }\n",
       "</style>\n",
       "<table border=\"1\" class=\"dataframe\">\n",
       "  <thead>\n",
       "    <tr style=\"text-align: right;\">\n",
       "      <th></th>\n",
       "      <th>Numero de cedula</th>\n",
       "      <th>Nombre completo</th>\n",
       "      <th>Fecha de nacimiento</th>\n",
       "      <th>Edad</th>\n",
       "      <th>Nacionalidad</th>\n",
       "      <th>Marginal</th>\n",
       "      <th>Conocido/a como</th>\n",
       "      <th>Nombre del padre</th>\n",
       "      <th>Cedula del padre</th>\n",
       "      <th>Nombre de la madre</th>\n",
       "      <th>Cedula de la madre</th>\n",
       "    </tr>\n",
       "  </thead>\n",
       "  <tbody>\n",
       "    <tr>\n",
       "      <th>0</th>\n",
       "      <td>107750001.0</td>\n",
       "      <td>JUAN CARLOS ARAYA VINDAS</td>\n",
       "      <td>17/6/1970</td>\n",
       "      <td>52 AÑOS</td>\n",
       "      <td>COSTARRICENSE</td>\n",
       "      <td>False</td>\n",
       "      <td>NaN</td>\n",
       "      <td>PAULINO ARAYA MOLINA</td>\n",
       "      <td>0.0</td>\n",
       "      <td>ALICIA VINDAS ROJAS</td>\n",
       "      <td>0.0</td>\n",
       "    </tr>\n",
       "    <tr>\n",
       "      <th>1</th>\n",
       "      <td>107750002.0</td>\n",
       "      <td>LAURA INES RODRIGUEZ BLANCO</td>\n",
       "      <td>00/00/1966</td>\n",
       "      <td>NaN</td>\n",
       "      <td>COSTARRICENSE</td>\n",
       "      <td>False</td>\n",
       "      <td>NaN</td>\n",
       "      <td>PASTOR RODRIGUEZ SOTO</td>\n",
       "      <td>0.0</td>\n",
       "      <td>BLANCA BLANCO PORRAS</td>\n",
       "      <td>0.0</td>\n",
       "    </tr>\n",
       "    <tr>\n",
       "      <th>2</th>\n",
       "      <td>107750003.0</td>\n",
       "      <td>CLARA ROSA GARCIA VARGAS</td>\n",
       "      <td>00/00/1965</td>\n",
       "      <td>NaN</td>\n",
       "      <td>COSTARRICENSE</td>\n",
       "      <td>False</td>\n",
       "      <td>NaN</td>\n",
       "      <td>NaN</td>\n",
       "      <td>0.0</td>\n",
       "      <td>ELSA GARCIA VARGAS</td>\n",
       "      <td>0.0</td>\n",
       "    </tr>\n",
       "    <tr>\n",
       "      <th>3</th>\n",
       "      <td>107750005.0</td>\n",
       "      <td>INNOMINADO SOLANO MORA</td>\n",
       "      <td>17/8/1967</td>\n",
       "      <td>1 DIA</td>\n",
       "      <td>COSTARRICENSE</td>\n",
       "      <td>False</td>\n",
       "      <td>NaN</td>\n",
       "      <td>RODOLFO SOLANO CALVO</td>\n",
       "      <td>0.0</td>\n",
       "      <td>ALICIA MARTHA MORA RIVERA</td>\n",
       "      <td>0.0</td>\n",
       "    </tr>\n",
       "    <tr>\n",
       "      <th>4</th>\n",
       "      <td>107750007.0</td>\n",
       "      <td>INNOMINADO JIMENEZ CALVO</td>\n",
       "      <td>14/8/1967</td>\n",
       "      <td>1 DIA</td>\n",
       "      <td>COSTARRICENSE</td>\n",
       "      <td>False</td>\n",
       "      <td>NaN</td>\n",
       "      <td>FRANCISCO JIMENEZ DELGADO</td>\n",
       "      <td>0.0</td>\n",
       "      <td>ANA VIRGINIA CALVO ARAYA</td>\n",
       "      <td>0.0</td>\n",
       "    </tr>\n",
       "    <tr>\n",
       "      <th>...</th>\n",
       "      <td>...</td>\n",
       "      <td>...</td>\n",
       "      <td>...</td>\n",
       "      <td>...</td>\n",
       "      <td>...</td>\n",
       "      <td>...</td>\n",
       "      <td>...</td>\n",
       "      <td>...</td>\n",
       "      <td>...</td>\n",
       "      <td>...</td>\n",
       "      <td>...</td>\n",
       "    </tr>\n",
       "    <tr>\n",
       "      <th>551986</th>\n",
       "      <td>112520818.0</td>\n",
       "      <td>DAVID ALBERTO MORA SALAS</td>\n",
       "      <td>04/09/1985</td>\n",
       "      <td>37 AÑOS</td>\n",
       "      <td>COSTARRICENSE</td>\n",
       "      <td>False</td>\n",
       "      <td>NaN</td>\n",
       "      <td>JESUS MORA QUESADA</td>\n",
       "      <td>0.0</td>\n",
       "      <td>MARIA ELENA SALAS PORRAS</td>\n",
       "      <td>103650830.0</td>\n",
       "    </tr>\n",
       "    <tr>\n",
       "      <th>551987</th>\n",
       "      <td>112520819.0</td>\n",
       "      <td>JORGE FRANCISCO CERDAS UREÑA</td>\n",
       "      <td>04/09/1985</td>\n",
       "      <td>37 AÑOS</td>\n",
       "      <td>COSTARRICENSE</td>\n",
       "      <td>False</td>\n",
       "      <td>NaN</td>\n",
       "      <td>AMANCIO CERDAS NAVARRO</td>\n",
       "      <td>0.0</td>\n",
       "      <td>EIDA UREÑA FALLAS</td>\n",
       "      <td>105610772.0</td>\n",
       "    </tr>\n",
       "    <tr>\n",
       "      <th>551988</th>\n",
       "      <td>112520820.0</td>\n",
       "      <td>JESSICA YADIRA MENA VARGAS</td>\n",
       "      <td>05/09/1985</td>\n",
       "      <td>1 DIA</td>\n",
       "      <td>COSTARRICENSE</td>\n",
       "      <td>False</td>\n",
       "      <td>NaN</td>\n",
       "      <td>VERLEY MENA GOMEZ</td>\n",
       "      <td>0.0</td>\n",
       "      <td>GRACE VARGAS CASTRO</td>\n",
       "      <td>106140306.0</td>\n",
       "    </tr>\n",
       "    <tr>\n",
       "      <th>551989</th>\n",
       "      <td>112520821.0</td>\n",
       "      <td>NATASHA MARIA CERDAS MONGE</td>\n",
       "      <td>06/09/1985</td>\n",
       "      <td>1 AÑO</td>\n",
       "      <td>COSTARRICENSE</td>\n",
       "      <td>False</td>\n",
       "      <td>NaN</td>\n",
       "      <td>URIEL RODOLFO CERDAS FALLAS</td>\n",
       "      <td>0.0</td>\n",
       "      <td>OLGA MONGE ROMERO</td>\n",
       "      <td>302660069.0</td>\n",
       "    </tr>\n",
       "    <tr>\n",
       "      <th>551990</th>\n",
       "      <td>112520822.0</td>\n",
       "      <td>ANA MARIA ROMERO VENEGAS</td>\n",
       "      <td>31/08/1985</td>\n",
       "      <td>37 AÑOS</td>\n",
       "      <td>COSTARRICENSE</td>\n",
       "      <td>False</td>\n",
       "      <td>NaN</td>\n",
       "      <td>JOSE BRAULIO ROMERO VARGAS</td>\n",
       "      <td>900200553.0</td>\n",
       "      <td>RUTH ENGRACIA VENEGAS CALDERON</td>\n",
       "      <td>0.0</td>\n",
       "    </tr>\n",
       "  </tbody>\n",
       "</table>\n",
       "<p>551991 rows × 11 columns</p>\n",
       "</div>"
      ],
      "text/plain": [
       "        Numero de cedula               Nombre completo Fecha de nacimiento  \\\n",
       "0            107750001.0      JUAN CARLOS ARAYA VINDAS           17/6/1970   \n",
       "1            107750002.0   LAURA INES RODRIGUEZ BLANCO          00/00/1966   \n",
       "2            107750003.0      CLARA ROSA GARCIA VARGAS          00/00/1965   \n",
       "3            107750005.0        INNOMINADO SOLANO MORA           17/8/1967   \n",
       "4            107750007.0      INNOMINADO JIMENEZ CALVO           14/8/1967   \n",
       "...                  ...                           ...                 ...   \n",
       "551986       112520818.0      DAVID ALBERTO MORA SALAS          04/09/1985   \n",
       "551987       112520819.0  JORGE FRANCISCO CERDAS UREÑA          04/09/1985   \n",
       "551988       112520820.0    JESSICA YADIRA MENA VARGAS          05/09/1985   \n",
       "551989       112520821.0    NATASHA MARIA CERDAS MONGE          06/09/1985   \n",
       "551990       112520822.0      ANA MARIA ROMERO VENEGAS          31/08/1985   \n",
       "\n",
       "           Edad   Nacionalidad Marginal Conocido/a como  \\\n",
       "0       52 AÑOS  COSTARRICENSE    False             NaN   \n",
       "1           NaN  COSTARRICENSE    False             NaN   \n",
       "2           NaN  COSTARRICENSE    False             NaN   \n",
       "3         1 DIA  COSTARRICENSE    False             NaN   \n",
       "4         1 DIA  COSTARRICENSE    False             NaN   \n",
       "...         ...            ...      ...             ...   \n",
       "551986  37 AÑOS  COSTARRICENSE    False             NaN   \n",
       "551987  37 AÑOS  COSTARRICENSE    False             NaN   \n",
       "551988    1 DIA  COSTARRICENSE    False             NaN   \n",
       "551989    1 AÑO  COSTARRICENSE    False             NaN   \n",
       "551990  37 AÑOS  COSTARRICENSE    False             NaN   \n",
       "\n",
       "                   Nombre del padre  Cedula del padre  \\\n",
       "0              PAULINO ARAYA MOLINA               0.0   \n",
       "1             PASTOR RODRIGUEZ SOTO               0.0   \n",
       "2                               NaN               0.0   \n",
       "3              RODOLFO SOLANO CALVO               0.0   \n",
       "4         FRANCISCO JIMENEZ DELGADO               0.0   \n",
       "...                             ...               ...   \n",
       "551986           JESUS MORA QUESADA               0.0   \n",
       "551987       AMANCIO CERDAS NAVARRO               0.0   \n",
       "551988            VERLEY MENA GOMEZ               0.0   \n",
       "551989  URIEL RODOLFO CERDAS FALLAS               0.0   \n",
       "551990   JOSE BRAULIO ROMERO VARGAS       900200553.0   \n",
       "\n",
       "                    Nombre de la madre  Cedula de la madre  \n",
       "0                  ALICIA VINDAS ROJAS                 0.0  \n",
       "1                 BLANCA BLANCO PORRAS                 0.0  \n",
       "2                   ELSA GARCIA VARGAS                 0.0  \n",
       "3            ALICIA MARTHA MORA RIVERA                 0.0  \n",
       "4             ANA VIRGINIA CALVO ARAYA                 0.0  \n",
       "...                                ...                 ...  \n",
       "551986        MARIA ELENA SALAS PORRAS         103650830.0  \n",
       "551987               EIDA UREÑA FALLAS         105610772.0  \n",
       "551988             GRACE VARGAS CASTRO         106140306.0  \n",
       "551989               OLGA MONGE ROMERO         302660069.0  \n",
       "551990  RUTH ENGRACIA VENEGAS CALDERON                 0.0  \n",
       "\n",
       "[551991 rows x 11 columns]"
      ]
     },
     "execution_count": 64,
     "metadata": {},
     "output_type": "execute_result"
    }
   ],
   "source": [
    "df = pd.read_csv(r'A:\\Computacion\\Data-Science\\registro-civil-costa-rica-data-mining\\data.csv')\n",
    "df"
   ]
  },
  {
   "cell_type": "code",
   "execution_count": 65,
   "metadata": {},
   "outputs": [
    {
     "data": {
      "text/plain": [
       "Numero de cedula         3844\n",
       "Nombre completo          3844\n",
       "Fecha de nacimiento      3844\n",
       "Edad                     3950\n",
       "Nacionalidad             3844\n",
       "Marginal                 3844\n",
       "Conocido/a como        533479\n",
       "Nombre del padre        53288\n",
       "Cedula del padre         3844\n",
       "Nombre de la madre       3963\n",
       "Cedula de la madre       3844\n",
       "dtype: int64"
      ]
     },
     "execution_count": 65,
     "metadata": {},
     "output_type": "execute_result"
    }
   ],
   "source": [
    "df.isna().sum()"
   ]
  },
  {
   "cell_type": "code",
   "execution_count": 66,
   "metadata": {},
   "outputs": [
    {
     "data": {
      "text/plain": [
       "Numero de cedula            0\n",
       "Nombre completo             0\n",
       "Fecha de nacimiento         0\n",
       "Edad                      106\n",
       "Nacionalidad                0\n",
       "Marginal                    0\n",
       "Conocido/a como        529635\n",
       "Nombre del padre        49444\n",
       "Cedula del padre            0\n",
       "Nombre de la madre        119\n",
       "Cedula de la madre          0\n",
       "dtype: int64"
      ]
     },
     "execution_count": 66,
     "metadata": {},
     "output_type": "execute_result"
    }
   ],
   "source": [
    "df.dropna(how='all', inplace=True)\n",
    "df.isna().sum()"
   ]
  },
  {
   "cell_type": "code",
   "execution_count": 67,
   "metadata": {},
   "outputs": [],
   "source": [
    "df.reset_index(drop=True, inplace=True)"
   ]
  },
  {
   "cell_type": "code",
   "execution_count": 68,
   "metadata": {},
   "outputs": [
    {
     "name": "stdout",
     "output_type": "stream",
     "text": [
      "<class 'pandas.core.frame.DataFrame'>\n",
      "RangeIndex: 548147 entries, 0 to 548146\n",
      "Data columns (total 11 columns):\n",
      " #   Column               Non-Null Count   Dtype  \n",
      "---  ------               --------------   -----  \n",
      " 0   Numero de cedula     548147 non-null  float64\n",
      " 1   Nombre completo      548147 non-null  object \n",
      " 2   Fecha de nacimiento  548147 non-null  object \n",
      " 3   Edad                 548041 non-null  object \n",
      " 4   Nacionalidad         548147 non-null  object \n",
      " 5   Marginal             548147 non-null  object \n",
      " 6   Conocido/a como      18512 non-null   object \n",
      " 7   Nombre del padre     498703 non-null  object \n",
      " 8   Cedula del padre     548147 non-null  float64\n",
      " 9   Nombre de la madre   548028 non-null  object \n",
      " 10  Cedula de la madre   548147 non-null  float64\n",
      "dtypes: float64(3), object(8)\n",
      "memory usage: 46.0+ MB\n"
     ]
    }
   ],
   "source": [
    "df.info()"
   ]
  },
  {
   "cell_type": "code",
   "execution_count": 69,
   "metadata": {},
   "outputs": [],
   "source": [
    "#df['Edad'] = df['Edad'].fillna(0)\n",
    "#df['Edad'] = df['Edad'].apply(lambda edad: str(edad).split(' ')[0] if edad != 'NO INDICA' else 0)"
   ]
  },
  {
   "cell_type": "code",
   "execution_count": 73,
   "metadata": {},
   "outputs": [],
   "source": [
    "df['Numero de cedula'] = df['Numero de cedula'].astype(int)\n",
    "df['Nombre completo'] = df['Nombre completo'].astype(str)\n",
    "df['Fecha de nacimiento'] = df['Fecha de nacimiento'].astype(str)\n",
    "df['Edad'] = df['Edad'].fillna(0).apply(lambda edad: str(edad).split(' ')[0] if edad != 'NO INDICA' else 0).astype(int)\n",
    "df['Nacionalidad'] = df['Nacionalidad'].astype(str)\n",
    "df['Marginal'] = df['Marginal'].astype(bool)\n",
    "df['Conocido/a como'] = df['Conocido/a como'].fillna('N/A').astype(str)\n",
    "df['Nombre del padre'] = df['Nombre del padre'].astype(str)\n",
    "df['Cedula del padre'] = df['Cedula del padre'].astype(int)\n",
    "df['Nombre de la madre'] = df['Nombre de la madre'].astype(str)\n",
    "df['Cedula de la madre'] = df['Cedula de la madre'].astype(int)"
   ]
  },
  {
   "cell_type": "code",
   "execution_count": 76,
   "metadata": {},
   "outputs": [],
   "source": [
    "df.to_csv('data.csv', index=False)"
   ]
  },
  {
   "cell_type": "code",
   "execution_count": null,
   "metadata": {},
   "outputs": [],
   "source": []
  }
 ],
 "metadata": {
  "kernelspec": {
   "display_name": "Python 3.9.12 ('base')",
   "language": "python",
   "name": "python3"
  },
  "language_info": {
   "codemirror_mode": {
    "name": "ipython",
    "version": 3
   },
   "file_extension": ".py",
   "mimetype": "text/x-python",
   "name": "python",
   "nbconvert_exporter": "python",
   "pygments_lexer": "ipython3",
   "version": "3.9.12"
  },
  "orig_nbformat": 4,
  "vscode": {
   "interpreter": {
    "hash": "f49206fcf84a9145e7e21228cbafa911d1ac18292303b01e865d8267a9c448f7"
   }
  }
 },
 "nbformat": 4,
 "nbformat_minor": 2
}
